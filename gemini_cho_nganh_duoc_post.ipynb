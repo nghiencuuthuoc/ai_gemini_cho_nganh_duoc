{
  "cells": [
    {
      "cell_type": "markdown",
      "metadata": {
        "id": "view-in-github",
        "colab_type": "text"
      },
      "source": [
        "<a href=\"https://colab.research.google.com/github/nghiencuuthuoc/ai_gemini_cho_nganh_duoc/blob/main/gemini_cho_nganh_duoc_post.ipynb\" target=\"_parent\"><img src=\"https://colab.research.google.com/assets/colab-badge.svg\" alt=\"Open In Colab\"/></a>"
      ]
    },
    {
      "cell_type": "markdown",
      "id": "a965a2fd-272e-416f-b283-439a450898e2",
      "metadata": {
        "id": "a965a2fd-272e-416f-b283-439a450898e2"
      },
      "source": [
        "<table align=\"center\">\n",
        "  <td>\n",
        "    <a href=\"https://colab.research.google.com/github/nghiencuuthuoc/ai_gemini_cho_nganh_duoc/blob/main/gemini_cho_nganh_duoc_post.ipynb\" target=\"_parent\"><img src=\"https://colab.research.google.com/assets/colab-badge.svg\" alt=\"Open In Colab\"/></a>\n",
        "  </td>\n",
        "  <td>\n",
        "    <a target=\"_blank\" href=\"https://kaggle.com/kernels/welcome?src=https://github.com/nghiencuuthuoc/ai_gemini_cho_nganh_duoc/blob/main/gemini_cho_nganh_duoc_post.ipynb\"><img src=\"https://kaggle.com/static/images/open-in-kaggle.svg\" /></a>\n",
        "  </td>\n",
        "</table>\n",
        "\n",
        "\n",
        "![](https://raw.githubusercontent.com/nghiencuuthuoc/PharmApp/refs/heads/master/images/PharmApp-logo.png)\n",
        "\n",
        "# PharmApp - Drug Discovery and Development\n",
        "Copyright 2024 | Nghiên Cứu Thuốc | RD_Pharma_Plus\n",
        "\n",
        "Email: nghiencuuthuoc@gmail.com | Web: nghiencuuthuoc.com | FB: facebook.com/nghiencuuthuoc | YouTube: youtube.com/@nghiencuuthuoc\n",
        "\n",
        "LinkedIn: linkedin.com/in/nghiencuuthuoc | Zalo: +84888999311 | WhatsApp: +84888999311 | Twitter: x.com/nghiencuuthuoc"
      ]
    },
    {
      "cell_type": "markdown",
      "id": "2ca3fecb-c179-463f-a82b-cdadf8fc22aa",
      "metadata": {
        "id": "2ca3fecb-c179-463f-a82b-cdadf8fc22aa"
      },
      "source": [
        "# Ứng dụng AI cho ngành dược"
      ]
    },
    {
      "cell_type": "code",
      "source": [
        "!pip install google.generativeai as genai"
      ],
      "metadata": {
        "id": "YLj_a8I0yTB7"
      },
      "id": "YLj_a8I0yTB7",
      "execution_count": null,
      "outputs": []
    },
    {
      "cell_type": "code",
      "execution_count": null,
      "id": "a1d6b4b6-c90d-4dd5-971e-14d59f780ea1",
      "metadata": {
        "id": "a1d6b4b6-c90d-4dd5-971e-14d59f780ea1"
      },
      "outputs": [],
      "source": [
        "import pathlib\n",
        "import textwrap\n",
        "\n",
        "import google.generativeai as genai\n",
        "\n",
        "from IPython.display import display\n",
        "from IPython.display import Markdown\n",
        "\n",
        "\n",
        "def to_markdown(text):\n",
        "  text = text.replace('•', '  *')\n",
        "  return Markdown(textwrap.indent(text, '> ', predicate=lambda _: True))"
      ]
    },
    {
      "cell_type": "code",
      "execution_count": null,
      "id": "f2c03ffc-7f7d-4cd1-ab82-d8c89c3c2b48",
      "metadata": {
        "id": "f2c03ffc-7f7d-4cd1-ab82-d8c89c3c2b48"
      },
      "outputs": [],
      "source": [
        "def ask_gemini():\n",
        "    GOOGLE_API_KEY = \"ENTER YOUR API\"\n",
        "    genai.configure(api_key=GOOGLE_API_KEY)\n",
        "    model = genai.GenerativeModel('gemini-pro')\n",
        "    question = str(input(\"Gửi câu hỏi cho Bạn Gemini: \")) # FDA drug approval 2024\n",
        "    response = model.generate_content(question)\n",
        "    print(response.text)"
      ]
    },
    {
      "cell_type": "code",
      "execution_count": null,
      "id": "e060012e-6951-48a2-b4a5-20eca4aff6ce",
      "metadata": {
        "id": "e060012e-6951-48a2-b4a5-20eca4aff6ce",
        "outputId": "194cb314-849c-41d6-bdcd-51209388dc5f"
      },
      "outputs": [
        {
          "name": "stdin",
          "output_type": "stream",
          "text": [
            "Gửi câu hỏi cho Bạn Gemini:  Dược sĩ có thể làm việc tại những đâu?\n"
          ]
        },
        {
          "name": "stdout",
          "output_type": "stream",
          "text": [
            "Dược sĩ có thể làm việc tại nhiều nơi khác nhau, bao gồm:\n",
            "\n",
            "**Các cơ sở chăm sóc sức khỏe:**\n",
            "\n",
            "* Bệnh viện\n",
            "* Phòng khám\n",
            "* Nhà thuốc cộng đồng\n",
            "* Nhà dưỡng lão\n",
            "* Trung tâm y tế quân sự\n",
            "\n",
            "**Ngành công nghiệp dược phẩm:**\n",
            "\n",
            "* Công ty dược phẩm (nghiên cứu và phát triển, sản xuất, tiếp thị)\n",
            "* Công ty thiết bị y tế\n",
            "* Công ty phân phối dược phẩm\n",
            "\n",
            "**Các cơ quan quản lý và nghiên cứu:**\n",
            "\n",
            "* Cơ quan Quản lý Thực phẩm và Dược phẩm (FDA)\n",
            "* Các trung tâm kiểm soát và phòng ngừa dịch bệnh (CDC)\n",
            "* Các trường đại học và viện nghiên cứu\n",
            "\n",
            "**Các vai trò khác:**\n",
            "\n",
            "* Giảng viên đại học\n",
            "* Nhà báo dược\n",
            "* Nhà tư vấn dược phẩm\n",
            "* Chuyên gia pháp y dược phẩm\n",
            "* Huấn luyện viên sức khỏe\n",
            "* Quản lý nhà thuốc\n"
          ]
        }
      ],
      "source": [
        "ask_gemini()"
      ]
    },
    {
      "cell_type": "code",
      "execution_count": null,
      "id": "726c3439-f700-43a2-846c-6c9813cdac8a",
      "metadata": {
        "id": "726c3439-f700-43a2-846c-6c9813cdac8a",
        "outputId": "4b3e3683-4ba9-4172-f293-a9a4533b43c2"
      },
      "outputs": [
        {
          "name": "stdin",
          "output_type": "stream",
          "text": [
            "Gửi câu hỏi cho Bạn Gemini:  Mức lương của dược sĩ làm việc tại bệnh viện tại Việt Nam là bao nhiêu?\n"
          ]
        },
        {
          "name": "stdout",
          "output_type": "stream",
          "text": [
            "Mức lương của dược sĩ làm việc tại bệnh viện tại Việt Nam có thể thay đổi tùy thuộc vào một số yếu tố, bao gồm:\n",
            "\n",
            "* Trình độ học vấn và kinh nghiệm\n",
            "* Vị trí công việc (thực tập sinh, dược sĩ chính thức, dược sĩ trưởng)\n",
            "* Quy mô và vị trí của bệnh viện\n",
            "* Ngành chuyên môn (dược lâm sàng, dược chế, v.v.)\n",
            "\n",
            "Theo khảo sát thị trường năm 2023, mức lương trung bình của dược sĩ làm việc tại bệnh viện tại Việt Nam như sau:\n",
            "\n",
            "* **Dược sĩ thực tập:** Khoảng 6-9 triệu đồng/tháng\n",
            "* **Dược sĩ chính thức:** Khoảng 10-15 triệu đồng/tháng\n",
            "* **Dược sĩ trưởng:** Khoảng 15-25 triệu đồng/tháng hoặc hơn\n",
            "\n",
            "Ngoài lương cơ bản, dược sĩ cũng có thể nhận được các khoản phụ cấp và chế độ phúc lợi khác, chẳng hạn như:\n",
            "\n",
            "* Thưởng thành tích\n",
            "* Phụ cấp chuyên môn\n",
            "* Bảo hiểm y tế\n",
            "* Nghỉ phép có lương\n",
            "\n",
            "Lưu ý rằng đây chỉ là mức lương trung bình và mức lương thực tế có thể khác nhau tùy thuộc vào các yếu tố cụ thể nêu trên.\n"
          ]
        }
      ],
      "source": [
        "ask_gemini()"
      ]
    },
    {
      "cell_type": "code",
      "execution_count": null,
      "id": "7641fb54-2855-4fde-b9ae-0a40cab07b97",
      "metadata": {
        "id": "7641fb54-2855-4fde-b9ae-0a40cab07b97",
        "outputId": "8e7f097a-e380-4a93-8562-99da5542569d"
      },
      "outputs": [
        {
          "name": "stdin",
          "output_type": "stream",
          "text": [
            "Gửi câu hỏi cho Bạn Gemini:  Học Dược sĩ mấy năm? Học Dược sĩ có khó không?\n"
          ]
        },
        {
          "name": "stdout",
          "output_type": "stream",
          "text": [
            "**Số năm đào tạo Dược sĩ:**\n",
            "\n",
            "* **Đại học chính quy:** 5 năm\n",
            "* **Liên thông từ Cao đẳng Dược lên Đại học:** 3 năm (Sau khi đã tốt nghiệp Cao đẳng Dược)\n",
            "\n",
            "**Học Dược sĩ có khó không:**\n",
            "\n",
            "Học Dược sĩ là một chuyên ngành đòi hỏi kiến thức chuyên sâu về khoa học sức khỏe, y học và dược lý. Mức độ khó khăn phụ thuộc vào nhiều yếu tố, bao gồm:\n",
            "\n",
            "* **Khả năng học tập:** Học sinh có nền tảng vững chắc về khoa học tự nhiên và toán học sẽ có lợi thế.\n",
            "* **Sự chăm chỉ:** Chương trình đào tạo Dược sĩ đòi hỏi sự chăm chỉ và nỗ lực học tập liên tục.\n",
            "* **Khả năng quản lý thời gian:** Sinh viên cần có khả năng cân đối thời gian học tập, nghiên cứu và tham gia các hoạt động ngoại khóa.\n",
            "* **Khả năng giải quyết vấn đề:** Dược sĩ phải có khả năng phân tích thông tin và đưa ra các giải pháp hiệu quả cho các vấn đề liên quan đến sức khỏe.\n",
            "* **Kỹ năng giao tiếp:** Dược sĩ cần có khả năng giao tiếp rõ ràng và hiệu quả với bệnh nhân, bác sĩ và các chuyên gia y tế khác.\n",
            "\n",
            "Nói chung, chương trình đào tạo Dược sĩ có thể khó khăn, nhưng không phải không đạt được. Với sự chuẩn bị tốt, chăm chỉ và đam mê với ngành Dược, sinh viên có thể vượt qua các thách thức và trở thành những Dược sĩ có trình độ.\n"
          ]
        }
      ],
      "source": [
        "ask_gemini()"
      ]
    },
    {
      "cell_type": "code",
      "execution_count": null,
      "id": "1c58d40d-c0df-4665-ab94-96f92b85a888",
      "metadata": {
        "id": "1c58d40d-c0df-4665-ab94-96f92b85a888",
        "outputId": "c0cc554e-41bf-4e30-c8d6-0aa2a93c3f0a"
      },
      "outputs": [
        {
          "name": "stdin",
          "output_type": "stream",
          "text": [
            "Gửi câu hỏi cho Bạn Gemini:  Phản ứng có hại của thuốc (ADR) là gì? Ai là người nên báo cáo ADR và báo cáo những gì?\n"
          ]
        },
        {
          "name": "stdout",
          "output_type": "stream",
          "text": [
            "**Phản ứng có hại của thuốc (ADR)**\n",
            "\n",
            "Phản ứng có hại của thuốc (ADR) là bất kỳ phản ứng bất lợi nào xảy ra do sử dụng thuốc. ADR có thể từ nhẹ (ví dụ: đau dạ dày) đến nghiêm trọng (ví dụ: tổn thương gan).\n",
            "\n",
            "**Ai nên báo cáo ADR?**\n",
            "\n",
            "ADR nên được báo cáo bởi:\n",
            "\n",
            "* Chuyên gia chăm sóc sức khỏe (ví dụ: bác sĩ, dược sĩ, y tá)\n",
            "* Bệnh nhân\n",
            "* Người giám hộ của bệnh nhân\n",
            "* Người đại diện của bệnh nhân\n",
            "\n",
            "**Những gì cần báo cáo?**\n",
            "\n",
            "Báo cáo ADR nên bao gồm các thông tin sau:\n",
            "\n",
            "* **Thông tin về bệnh nhân:** Tên, tuổi, giới tính, trọng lượng, tình trạng sức khỏe\n",
            "* **Thông tin về thuốc:** Tên thuốc, liều lượng, đường dùng, thời gian sử dụng\n",
            "* **Mô tả ADR:** Các triệu chứng, thời gian bắt đầu, mức độ nghiêm trọng\n",
            "* **Các yếu tố có thể góp phần:** Các loại thuốc khác đang sử dụng, tình trạng sức khỏe hiện tại, lối sống\n",
            "* **Kết quả:** Hành động được thực hiện (ví dụ: ngừng thuốc, thay đổi liều lượng) và kết quả\n",
            "\n",
            "**Cách báo cáo ADR**\n",
            "\n",
            "ADR có thể được báo cáo thông qua các kênh sau:\n",
            "\n",
            "* **Chương trình theo dõi ADR quốc gia:** Mỗi quốc gia thường có một cơ quan giám sát ADR.\n",
            "* **Công ty dược phẩm:** Báo cáo trực tiếp cho công ty chịu trách nhiệm sản xuất thuốc.\n",
            "* **Cơ sở y tế:** Báo cáo cho Ủy ban Đạo đức Y khoa tại cơ sở y tế.\n",
            "* **Trực tuyến:** Nhiều quốc gia cung cấp các trang web hoặc ứng dụng trực tuyến để báo cáo ADR.\n",
            "* **Báo cáo trực tiếp cho bác sĩ:** Người bệnh có thể báo cáo ADR cho bác sĩ của họ, người sẽ báo cáo cho cơ quan chức năng.\n",
            "\n",
            "**Ý nghĩa của việc báo cáo ADR**\n",
            "\n",
            "Báo cáo ADR là rất quan trọng vì nó giúp:\n",
            "\n",
            "* Phát hiện sớm và phòng ngừa ADR nghiêm trọng\n",
            "* Theo dõi sự an toàn của thuốc\n",
            "* Cải thiện an toàn thuốc cho công chúng\n",
            "* Hướng dẫn quyết định điều trị cho các chuyên gia chăm sóc sức khỏe\n"
          ]
        }
      ],
      "source": [
        "ask_gemini()"
      ]
    },
    {
      "cell_type": "code",
      "execution_count": null,
      "id": "22a62145-3a05-407e-ae45-f2b4f2208fe7",
      "metadata": {
        "id": "22a62145-3a05-407e-ae45-f2b4f2208fe7",
        "outputId": "4d16b206-c42e-4faf-bfc0-47a880eeb4d2"
      },
      "outputs": [
        {
          "name": "stdin",
          "output_type": "stream",
          "text": [
            "Gửi câu hỏi cho Bạn Gemini:  Luật dược năm 2024 bạn thấy thế nào?\n"
          ]
        },
        {
          "name": "stdout",
          "output_type": "stream",
          "text": [
            "**Đánh giá Luật Dược năm 2024**\n",
            "\n",
            "Luật Dược năm 2024 (sửa đổi, bổ sung Luật Dược năm 2005) được ban hành vào ngày 11 tháng 5 năm 2024. Luật này có nhiều thay đổi đáng kể so với Luật Dược trước đó, nhằm mục đích tăng cường quản lý và đảm bảo an toàn trong lĩnh vực dược phẩm.\n",
            "\n",
            "**Điểm mới chính của Luật Dược năm 2024**\n",
            "\n",
            "* **Quy định chặt chẽ hơn về thuốc biệt dược:** Yêu cầu các nhà sản xuất thuốc biệt dược phải nộp báo cáo đánh giá chi phí-hiệu quả trước khi đưa thuốc ra thị trường.\n",
            "* **Quản lý lưu hành thuốc chặt chẽ hơn:** Tăng cường giám sát và kiểm tra tại các cơ sở sản xuất, nhập khẩu, phân phối và bán lẻ thuốc.\n",
            "* **Cải thiện chất lượng thuốc lưu hành:** Yêu cầu các nhà sản xuất thuốc phải tuân thủ các tiêu chuẩn quản lý chất lượng nghiêm ngặt hơn.\n",
            "* **Tăng cường trách nhiệm của các bên liên quan:** Xác định rõ trách nhiệm của các nhà sản xuất, nhập khẩu, phân phối và bán lẻ thuốc trong việc đảm bảo an toàn và chất lượng thuốc.\n",
            "* **Chế tài nghiêm khắc hơn:** Áp dụng các biện pháp trừng phạt nặng hơn đối với các vi phạm Luật Dược, bao gồm cả hình sự.\n",
            "\n",
            "**Đánh giá ban đầu**\n",
            "\n",
            "Luật Dược năm 2024 được các chuyên gia sức khỏe hoan nghênh như một bước tiến quan trọng trong việc cải thiện an toàn và chất lượng thuốc ở Việt Nam. Những thay đổi trong luật này được kỳ vọng sẽ làm giảm tình trạng thuốc kém chất lượng, giả mạo và lạm dụng thuốc.\n",
            "\n",
            "Tuy nhiên, một số chuyên gia cũng bày tỏ lo ngại rằng các quy định chặt chẽ hơn có thể làm tăng gánh nặng cho các doanh nghiệp dược phẩm và làm chậm quá trình đưa thuốc mới ra thị trường.\n",
            "\n",
            "**Tác động lâu dài**\n",
            "\n",
            "Tác động lâu dài của Luật Dược năm 2024 sẽ được tiết lộ theo thời gian. Nếu được thực hiện hiệu quả, luật này có thể mang lại những lợi ích đáng kể cho sức khỏe và phúc lợi của người dân Việt Nam. Tuy nhiên, việc thực thi các quy định của luật này sẽ là một thách thức, cần sự hợp tác của tất cả các bên liên quan.\n"
          ]
        }
      ],
      "source": [
        "ask_gemini()"
      ]
    },
    {
      "cell_type": "code",
      "execution_count": null,
      "id": "6f9bfd5e-ff44-4c6f-bf34-2534ab847875",
      "metadata": {
        "id": "6f9bfd5e-ff44-4c6f-bf34-2534ab847875",
        "outputId": "47903065-9643-4c08-e4f2-2ddf21371a23"
      },
      "outputs": [
        {
          "name": "stdin",
          "output_type": "stream",
          "text": [
            "Gửi câu hỏi cho Bạn Gemini:  Tình hình đăng ký thuốc tại Việt Nam như thế nào? Có khó khăn gì không?\n"
          ]
        },
        {
          "name": "stdout",
          "output_type": "stream",
          "text": [
            "**Tình hình đăng ký thuốc tại Việt Nam**\n",
            "\n",
            "Việt Nam có hệ thống đăng ký thuốc nghiêm ngặt do Bộ Y tế quản lý. Quy trình đăng ký phức tạp và mất nhiều thời gian, với ba giai đoạn chính:\n",
            "\n",
            "**Giai đoạn 1: Đánh giá tiền lâm sàng và lâm sàng**\n",
            "\n",
            "* Nhà sản xuất phải nộp hồ sơ đăng ký thuốc, bao gồm dữ liệu tiền lâm sàng và lâm sàng.\n",
            "* Hồ sơ này được đánh giá bởi Viện Kiểm nghiệm thuốc Trung ương (NAVI).\n",
            "* NAVI sẽ xem xét chất lượng, an toàn và hiệu quả của thuốc.\n",
            "\n",
            "**Giai đoạn 2: Đánh giá hành chính**\n",
            "\n",
            "* Sau khi hồ sơ được NAVI chấp thuận, nhà sản xuất sẽ nộp hồ sơ hành chính lên Cục Quản lý Dược (QLD).\n",
            "* QLD sẽ đánh giá tuân thủ các quy định về đăng ký, sản xuất, phân phối và nhập khẩu thuốc.\n",
            "\n",
            "**Giai đoạn 3: Phê duyệt và cấp số đăng ký**\n",
            "\n",
            "* Nếu hồ sơ được chấp thuận, QLD sẽ cấp số đăng ký cho thuốc.\n",
            "* Số đăng ký này có hiệu lực từ 5 đến 7 năm và có thể gia hạn.\n",
            "\n",
            "**Khó khăn trong việc đăng ký thuốc tại Việt Nam**\n",
            "\n",
            "Quy trình đăng ký thuốc tại Việt Nam có những khó khăn sau:\n",
            "\n",
            "* **Thời gian dài:** Quy trình đăng ký có thể mất từ 12 đến 18 tháng, thậm chí lâu hơn đối với các loại thuốc phức tạp.\n",
            "* **Chi phí cao:** Chi phí đăng ký thuốc có thể lên tới hàng trăm triệu đồng.\n",
            "* **Yêu cầu dữ liệu toàn diện:** Hồ sơ đăng ký thuốc yêu cầu dữ liệu toàn diện về tiền lâm sàng, lâm sàng, an toàn và hiệu quả.\n",
            "* **Quy định nghiêm ngặt:** Việt Nam có nhiều quy định nghiêm ngặt về đăng ký thuốc, chẳng hạn như yêu cầu thử nghiệm lâm sàng ở Việt Nam đối với một số loại thuốc.\n",
            "* **Sự thay đổi về quy định:** Các quy định về đăng ký thuốc liên tục thay đổi, dẫn đến sự không chắc chắn và chậm trễ trong quá trình đăng ký.\n",
            "* **Sự cạnh tranh từ thuốc generic:** Việt Nam có một thị trường thuốc generic cạnh tranh, dẫn đến sự khó khăn trong việc đăng ký các loại thuốc mới.\n",
            "* **Thiếu chuyên gia đủ trình độ:** Việt Nam thiếu các chuyên gia đủ trình độ để đánh giá và xử lý nhanh chóng các hồ sơ đăng ký thuốc.\n"
          ]
        }
      ],
      "source": [
        "ask_gemini()"
      ]
    },
    {
      "cell_type": "code",
      "execution_count": null,
      "id": "72e388ee-d931-43ae-ae11-227aa3ff4e6f",
      "metadata": {
        "id": "72e388ee-d931-43ae-ae11-227aa3ff4e6f",
        "outputId": "ff67a769-f71b-40fb-833a-00d7c1aea449"
      },
      "outputs": [
        {
          "name": "stdin",
          "output_type": "stream",
          "text": [
            "Gửi câu hỏi cho Bạn Gemini:  Tại sao thuốc generic tại Việt Nam nhiều vậy?\n"
          ]
        },
        {
          "name": "stdout",
          "output_type": "stream",
          "text": [
            "Thuốc generic nhiều ở Việt Nam là do các yếu tố sau:\n",
            "\n",
            "**1. Chính sách ưu tiên thuốc generic:**\n",
            "\n",
            "* Chính phủ Việt Nam ưu tiên sử dụng thuốc generic để giảm chi phí chăm sóc sức khỏe và đảm bảo tiếp cận thuốc cho người dân.\n",
            "* Bộ Y tế có chính sách khuyến khích sản xuất và sử dụng thuốc generic thông qua các biện pháp như giảm thuế, cấp phép nhanh chóng và hỗ trợ nghiên cứu.\n",
            "\n",
            "**2. Chi phí sản xuất thấp:**\n",
            "\n",
            "* Việt Nam có chi phí sản xuất và lao động thấp, giúp các công ty sản xuất thuốc generic dễ dàng sản xuất và cung cấp thuốc với giá cả cạnh tranh.\n",
            "\n",
            "**3. Bằng sáng chế hết hạn:**\n",
            "\n",
            "* Nhiều loại thuốc gốc có bằng sáng chế đã hết hạn, cho phép các công ty generic sản xuất và cung cấp các phiên bản generic mà không phải trả tiền bản quyền.\n",
            "\n",
            "**4. Sự cạnh tranh thị trường:**\n",
            "\n",
            "* Thị trường thuốc generic tại Việt Nam có tính cạnh tranh cao, với nhiều công ty cả trong và ngoài nước tham gia. Điều này dẫn đến giá cả phải chăng và sự đa dạng của các lựa chọn thuốc generic.\n",
            "\n",
            "**5. Cải thiện nhận thức về thuốc generic:**\n",
            "\n",
            "* Trong những năm gần đây, đã có sự gia tăng nhận thức về vai trò của thuốc generic trong việc cung cấp thuốc giá cả phải chăng và hiệu quả. Điều này đã dẫn đến sự tiếp nhận ngày càng tăng của người dân đối với thuốc generic.\n",
            "\n",
            "**6. Hệ thống bảo hiểm y tế:**\n",
            "\n",
            "* Hệ thống bảo hiểm y tế của Việt Nam bao phủ một phần lớn chi phí y tế, bao gồm cả thuốc. Việc ưu tiên thuốc generic trong hệ thống bảo hiểm giúp làm cho chúng trở nên dễ tiếp cận hơn cho bệnh nhân.\n",
            "\n",
            "**7. Sự hỗ trợ của tổ chức quốc tế:**\n",
            "\n",
            "* Tổ chức Y tế Thế giới (WHO) và các tổ chức quốc tế khác khuyến khích sử dụng thuốc generic để cải thiện sức khỏe toàn cầu. Điều này đã thúc đẩy sự phát triển của thị trường thuốc generic ở Việt Nam.\n"
          ]
        }
      ],
      "source": [
        "ask_gemini()"
      ]
    },
    {
      "cell_type": "code",
      "execution_count": null,
      "id": "554901d5-9bb8-419f-bd4d-24438050a015",
      "metadata": {
        "id": "554901d5-9bb8-419f-bd4d-24438050a015",
        "outputId": "56683117-dee7-4488-e142-e67806cd6e08"
      },
      "outputs": [
        {
          "name": "stdin",
          "output_type": "stream",
          "text": [
            "Gửi câu hỏi cho Bạn Gemini:  Hãy giải thích khái niệm \"Liều tối đa\" và \"Liều duy trì\" của thuốc\n"
          ]
        },
        {
          "name": "stdout",
          "output_type": "stream",
          "text": [
            "**Liều tối đa**\n",
            "\n",
            "* **Định nghĩa:** Liều cao nhất của thuốc có thể được dùng an toàn và hiệu quả mà không gây ra tác dụng phụ nghiêm trọng.\n",
            "* **Mục đích:** Đạt được hiệu quả tối ưu của thuốc với nguy cơ tác dụng phụ thấp nhất.\n",
            "* **Cách xác định:** Thường được xác định thông qua các thử nghiệm lâm sàng, nơi liều lượng khác nhau của thuốc được đánh giá để xác định liều hiệu quả tối ưu với khả năng chịu đựng tốt nhất.\n",
            "* **Ví dụ:** Liều tối đa của acetaminophen là 1.000 mg mỗi liều, tương ứng với 4.000 mg mỗi ngày.\n",
            "\n",
            "**Liều duy trì**\n",
            "\n",
            "* **Định nghĩa:** Liều lượng thuốc được dùng thường xuyên để duy trì nồng độ thuốc mong muốn trong cơ thể.\n",
            "* **Mục đích:** Ngăn ngừa tái phát hoặc giảm bớt các triệu chứng khi điều trị dài hạn.\n",
            "* **Cách xác định:** Thường được xác định sau khi liều tối đa đã thiết lập. Bác sĩ sẽ điều chỉnh liều dùng để duy trì nồng độ thuốc hiệu quả trong khi giảm thiểu tác dụng phụ.\n",
            "* **Ví dụ:** Liều duy trì của thuốc chống động kinh levetiracetam thường nằm trong khoảng 1.000-3.000 mg mỗi ngày.\n",
            "\n",
            "**Sự khác biệt quan trọng**\n",
            "\n",
            "* Liều tối đa thường cao hơn liều duy trì.\n",
            "* Liều tối đa được dùng để đạt được hiệu quả tối ưu, trong khi liều duy trì được dùng để duy trì hiệu quả trong thời gian dài.\n",
            "* Liều tối đa có nhiều khả năng gây ra tác dụng phụ, trong khi liều duy trì được tối ưu hóa để giảm thiểu tác dụng phụ.\n",
            "\n",
            "Lưu ý rằng liều tối đa và liều duy trì có thể thay đổi tùy theo cá nhân, tùy thuộc vào các yếu tố như tuổi, thể trạng, tình trạng bệnh và tương tác thuốc. Luôn tham khảo ý kiến bác sĩ hoặc dược sĩ để được hướng dẫn chính xác về liều lượng thuốc.\n"
          ]
        }
      ],
      "source": [
        "ask_gemini()"
      ]
    },
    {
      "cell_type": "code",
      "execution_count": null,
      "id": "4c52f2fd-b1f3-4dbc-b18f-f54b151e08f3",
      "metadata": {
        "id": "4c52f2fd-b1f3-4dbc-b18f-f54b151e08f3",
        "outputId": "4b8528aa-dbce-4852-84b1-54e8a132ba79"
      },
      "outputs": [
        {
          "name": "stdin",
          "output_type": "stream",
          "text": [
            "Gửi câu hỏi cho Bạn Gemini:  Những điều lưu ý về đăng ký thuốc trong luật dược 2024\n"
          ]
        },
        {
          "name": "stdout",
          "output_type": "stream",
          "text": [
            "**Những điều lưu ý về đăng ký thuốc trong Luật Dược 2024**\n",
            "\n",
            "**Quy định chung:**\n",
            "\n",
            "* Thuốc phải được đăng ký trước khi đưa ra thị trường (Điều 71)\n",
            "* Đơn đăng ký thuốc phải được nộp cho Cục Quản lý Dược (Điều 72)\n",
            "* Hồ sơ đăng ký thuốc phải bao gồm các thông tin bắt buộc theo quy định (Điều 73)\n",
            "* Thuốc đăng ký phải đáp ứng các yêu cầu về chất lượng, an toàn và hiệu quả (Điều 75)\n",
            "\n",
            "**Các loại thuốc phải đăng ký:**\n",
            "\n",
            "* Thuốc thành phẩm, hoạt chất dược phẩm\n",
            "* Thực phẩm bổ sung có chứa thuốc\n",
            "* Thuốc thử nghiệm lâm sàng\n",
            "* Thuốc sản xuất tại Việt Nam (bao gồm thuốc generic)\n",
            "* Thuốc nhập khẩu vào Việt Nam\n",
            "\n",
            "**Thủ tục đăng ký thuốc:**\n",
            "\n",
            "* **Đối với thuốc mới:**\n",
            "    * Đánh giá sơ bộ hồ sơ\n",
            "    * Thẩm định đầy đủ hồ sơ\n",
            "    * Thẩm tra thực địa\n",
            "* **Đối với thuốc generic:**\n",
            "    * Đánh giá văn kiện hành chính\n",
            "    * Đánh giá sinh khả dụng và sinh tương đương\n",
            "    * Thẩm tra thực địa (nếu cần)\n",
            "\n",
            "**Thời hạn đăng ký thuốc:**\n",
            "\n",
            "* Sau khi nộp hồ sơ, Cục Quản lý Dược có 90 ngày để đánh giá sơ bộ hồ sơ (Điều 78)\n",
            "* Nếu hồ sơ hợp lệ, Cục Quản lý Dược sẽ có 270 ngày để thẩm định đầy đủ hồ sơ (Điều 79)\n",
            "* Trong trường hợp cần thăm dò bổ sung, thời hạn thẩm định có thể kéo dài thêm không quá 90 ngày (Điều 80)\n",
            "* Nếu thuốc được chấp thuận đăng ký, số đăng ký thuốc sẽ được cấp trong vòng 30 ngày kể từ ngày quyết định chấp thuận (Điều 81)\n",
            "\n",
            "**Các loại số đăng ký thuốc:**\n",
            "\n",
            "* **Số đăng ký quốc gia:** Đối với thuốc được sản xuất trong nước hoặc nhập khẩu vào Việt Nam\n",
            "* **Số đăng ký tương đương:** Đối với thuốc nhập khẩu đã được đăng ký tại một quốc gia khác đáp ứng tiêu chuẩn của Việt Nam\n",
            "* **Số đăng ký đặc biệt:** Đối với thuốc phục vụ nghiên cứu khoa học, thuốc chỉ bán tại bệnh viện, thuốc phục vụ cho các chương trình cấp quốc gia...\n",
            "\n",
            "**Yêu cầu bổ sung:**\n",
            "\n",
            "* Thuốc phải có nhãn mác và tờ hướng dẫn sử dụng đầy đủ và chính xác (Điều 86)\n",
            "* Thuốc phải được bảo quản, vận chuyển và sử dụng theo đúng quy định (Điều 87)\n",
            "* Nhà sản xuất và phân phối thuốc phải chịu trách nhiệm về chất lượng và an toàn của thuốc (Điều 88)\n"
          ]
        }
      ],
      "source": [
        "ask_gemini()"
      ]
    },
    {
      "cell_type": "markdown",
      "id": "4528a061-b9ea-4aeb-9aa3-275189cbf3e5",
      "metadata": {
        "id": "4528a061-b9ea-4aeb-9aa3-275189cbf3e5"
      },
      "source": [
        "Cảm ơn các bạn đã xem!"
      ]
    },
    {
      "cell_type": "code",
      "execution_count": null,
      "id": "f60e0ec4-f13a-4474-969a-df29e6f39d6f",
      "metadata": {
        "id": "f60e0ec4-f13a-4474-969a-df29e6f39d6f"
      },
      "outputs": [],
      "source": []
    }
  ],
  "metadata": {
    "kernelspec": {
      "display_name": "Python 3 (ipykernel)",
      "language": "python",
      "name": "python3"
    },
    "language_info": {
      "codemirror_mode": {
        "name": "ipython",
        "version": 3
      },
      "file_extension": ".py",
      "mimetype": "text/x-python",
      "name": "python",
      "nbconvert_exporter": "python",
      "pygments_lexer": "ipython3",
      "version": "3.11.0"
    },
    "colab": {
      "provenance": [],
      "include_colab_link": true
    }
  },
  "nbformat": 4,
  "nbformat_minor": 5
}